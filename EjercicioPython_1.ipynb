{
  "nbformat": 4,
  "nbformat_minor": 0,
  "metadata": {
    "colab": {
      "provenance": [],
      "authorship_tag": "ABX9TyOIfUc3Pbl82SJeeFi30hn4",
      "include_colab_link": true
    },
    "kernelspec": {
      "name": "python3",
      "display_name": "Python 3"
    },
    "language_info": {
      "name": "python"
    }
  },
  "cells": [
    {
      "cell_type": "markdown",
      "metadata": {
        "id": "view-in-github",
        "colab_type": "text"
      },
      "source": [
        "<a href=\"https://colab.research.google.com/github/OptiumHyper21/IA-y-Redes-Neuronales/blob/main/EjercicioPython_1.ipynb\" target=\"_parent\"><img src=\"https://colab.research.google.com/assets/colab-badge.svg\" alt=\"Open In Colab\"/></a>"
      ]
    },
    {
      "cell_type": "markdown",
      "source": [],
      "metadata": {
        "id": "gdhV169TvcYr"
      }
    },
    {
      "cell_type": "markdown",
      "source": [
        "Nombre: Diego de la Rosa Ornelas\n",
        "\n",
        "Matricula:1999357\n",
        "\n",
        "Hora: N4\n",
        "\n",
        "Actividad 2: Diseño de algoritmos en Python"
      ],
      "metadata": {
        "id": "nuZmxOGGvdlu"
      }
    },
    {
      "cell_type": "markdown",
      "source": [
        "Algoritmo que le pida al usuario por su nombre y que lo salude con su nombre, excepto si se llama “Ana”, “Juan”, y “Pedro”:"
      ],
      "metadata": {
        "id": "qmeT9j5LgPFu"
      }
    },
    {
      "cell_type": "code",
      "source": [
        "def saludo():\n",
        "\n",
        "    nombre = input(\"ingrese su nombre: \")\n",
        "\n",
        "    no_saludar = [\"Ana\", \"Juan\", \"Pedro\"]\n",
        "\n",
        "    if nombre in no_saludar:\n",
        "        print(\"¡Hola!\" )\n",
        "    else:\n",
        "        print(\"¡Hola\", nombre + \"!\", )\n",
        "saludo()\n"
      ],
      "metadata": {
        "colab": {
          "base_uri": "https://localhost:8080/"
        },
        "id": "aJgrOYNcu9BY",
        "outputId": "cf9dbbf6-fcd3-4ca8-d017-2b4bf5b8d9b4"
      },
      "execution_count": 9,
      "outputs": [
        {
          "output_type": "stream",
          "name": "stdout",
          "text": [
            "ingrese su nombre: Diego\n",
            "¡Hola Diego!\n"
          ]
        }
      ]
    },
    {
      "cell_type": "markdown",
      "source": [
        "Algoritmo que por medio de una función, le pida al usuario una lista de N elementos y como resultado invierta el sentido de la lista:\n"
      ],
      "metadata": {
        "id": "OTBYFdP5gXOW"
      }
    },
    {
      "cell_type": "code",
      "source": [
        "def Lista_invertida():\n",
        "\n",
        "    n = int(input(\"Ingrese la cantidad de elementos de la lista: \"))\n",
        "\n",
        "    lista = []\n",
        "    print(\"Ingrese los elementos de la lista de uno en uno:\")\n",
        "    for i in range(n):\n",
        "        elemento = input(f\"Elemento {i+1}: \")\n",
        "        lista.append(elemento)\n",
        "\n",
        "    lista_invertida = lista[::-1]\n",
        "\n",
        "    print(\"Lista invertida:\", lista_invertida)\n",
        "\n",
        "Lista_invertida()\n"
      ],
      "metadata": {
        "colab": {
          "base_uri": "https://localhost:8080/"
        },
        "id": "N_rNT-ZK4YAz",
        "outputId": "c523aeab-3e6d-4c5d-bf3b-2cb6f97ab241"
      },
      "execution_count": 10,
      "outputs": [
        {
          "output_type": "stream",
          "name": "stdout",
          "text": [
            "Ingrese la cantidad de elementos de la lista: 5\n",
            "Ingrese los elementos de la lista de uno en uno:\n",
            "Elemento 1: 1\n",
            "Elemento 2: 2\n",
            "Elemento 3: 3\n",
            "Elemento 4: 4\n",
            "Elemento 5: 5\n",
            "Lista invertida: ['5', '4', '3', '2', '1']\n"
          ]
        }
      ]
    },
    {
      "cell_type": "markdown",
      "source": [
        "Algoritmo que le pregunte al usuario cuántos números de la serie de Fibonacci quiere generar y que al final los imprima:"
      ],
      "metadata": {
        "id": "sehnPLYBgfPm"
      }
    },
    {
      "cell_type": "code",
      "source": [
        "def Serie_de_fibonacci(n):\n",
        "    serie_fibonacci = [0, 1]\n",
        "\n",
        "    for i in range(2, n):\n",
        "        serie_fibonacci.append(serie_fibonacci[i-1] + serie_fibonacci[i-2])\n",
        "\n",
        "    return serie_fibonacci\n",
        "\n",
        "def generar_serie_fibonacci():\n",
        "    cantidad = int(input(\"Ingrese la cantidad de números de la serie de Fibonacci que se quiere generar: \"))\n",
        "\n",
        "    serie = Serie_de_fibonacci(cantidad)\n",
        "\n",
        "    print(\"La serie de Fibonacci de\", cantidad, \"números es:\")\n",
        "    for num in serie:\n",
        "        print(num, end=\" \")\n",
        "\n",
        "generar_serie_fibonacci()\n"
      ],
      "metadata": {
        "id": "8ie75PMk-r6d",
        "colab": {
          "base_uri": "https://localhost:8080/"
        },
        "outputId": "7019b69e-30d9-4dcf-ef86-0c566d52b9fa"
      },
      "execution_count": 11,
      "outputs": [
        {
          "output_type": "stream",
          "name": "stdout",
          "text": [
            "Ingrese la cantidad de números de la serie de Fibonacci que se quiere generar: 10\n",
            "La serie de Fibonacci de 10 números es:\n",
            "0 1 1 2 3 5 8 13 21 34 "
          ]
        }
      ]
    },
    {
      "cell_type": "markdown",
      "source": [
        "Crea un programa que genere un número aleatorio entre 1 y 100, y luego le pida al usuario que adivine el número. El programa debe proporcionar pistas al usuario si el número es mayor o menor que el número objetivo, y seguir solicitando un nuevo intento hasta que el usuario adivine correctamente:"
      ],
      "metadata": {
        "id": "P2BxCnh_gkq5"
      }
    },
    {
      "cell_type": "code",
      "source": [
        "import random\n",
        "\n",
        "def adivina_el_numero():\n",
        "\n",
        "    numero_requerido = random.randint(1, 100)\n",
        "\n",
        "    intentos = 0\n",
        "    while True:\n",
        "\n",
        "        intento = int(input(\"adivina el número (entre 1 y 100): \"))\n",
        "        intentos += 1\n",
        "\n",
        "\n",
        "        if intento == numero_requerido:\n",
        "            print(\"¡Correcto, adivinaste el número en\", intentos, \"intentos!\")\n",
        "            break\n",
        "\n",
        "        elif intento < numero_requerido:\n",
        "            print(\"El número es mayor.\")\n",
        "\n",
        "        else:\n",
        "            print(\"El número es menor.\")\n",
        "\n",
        "\n",
        "adivina_el_numero()\n"
      ],
      "metadata": {
        "colab": {
          "base_uri": "https://localhost:8080/"
        },
        "id": "H8wsfcvBRTE2",
        "outputId": "d66b531d-122d-499c-ef5b-1ea5e7eff665"
      },
      "execution_count": 12,
      "outputs": [
        {
          "output_type": "stream",
          "name": "stdout",
          "text": [
            "adivina el número (entre 1 y 100): 43\n",
            "El número es menor.\n",
            "adivina el número (entre 1 y 100): 23\n",
            "El número es menor.\n",
            "adivina el número (entre 1 y 100): 13\n",
            "El número es menor.\n",
            "adivina el número (entre 1 y 100): 3\n",
            "El número es mayor.\n",
            "adivina el número (entre 1 y 100): 6\n",
            "El número es menor.\n",
            "adivina el número (entre 1 y 100): 5\n",
            "¡Correcto, adivinaste el número en 6 intentos!\n"
          ]
        }
      ]
    },
    {
      "cell_type": "markdown",
      "source": [
        "Escribe un programa que solicite al usuario un rango de números y muestre todos los números primos dentro de ese rango:"
      ],
      "metadata": {
        "id": "LKnMXi_igsRU"
      }
    },
    {
      "cell_type": "code",
      "source": [
        "def es_numero_primo(numero):\n",
        "    if numero <= 1:\n",
        "        return False\n",
        "    elif numero <= 3:\n",
        "        return True\n",
        "    elif numero % 2 == 0 or numero % 3 == 0:\n",
        "        return False\n",
        "    i = 5\n",
        "    while i * i <= numero:\n",
        "        if numero % i == 0 or numero % (i + 2) == 0:\n",
        "            return False\n",
        "        i += 6\n",
        "    return True\n",
        "\n",
        "def rango_numeros_primos():\n",
        "\n",
        "    inicio = int(input(\"Rango inicial: \"))\n",
        "    fin = int(input(\"Rango final: \"))\n",
        "\n",
        "    print(\"Números primos en el rango del\", inicio, \"al\", fin, \":\")\n",
        "\n",
        "    for numero in range(inicio, fin + 1):\n",
        "        if es_numero_primo(numero):\n",
        "            print(numero, end=\" \")\n",
        "\n",
        "rango_numeros_primos()\n"
      ],
      "metadata": {
        "colab": {
          "base_uri": "https://localhost:8080/"
        },
        "id": "_gbDcDQHamNL",
        "outputId": "0d911f43-55a7-46b3-9cc4-6c1077139a9a"
      },
      "execution_count": 13,
      "outputs": [
        {
          "output_type": "stream",
          "name": "stdout",
          "text": [
            "Rango inicial: 1\n",
            "Rango final: 50\n",
            "Números primos en el rango del 1 al 50 :\n",
            "2 3 5 7 11 13 17 19 23 29 31 37 41 43 47 "
          ]
        }
      ]
    },
    {
      "cell_type": "markdown",
      "source": [
        "Escribe un programa que solicite al usuario dos números y realice operaciones básicas como suma, resta, multiplicación y división utilizando funciones separadas para cada operación:"
      ],
      "metadata": {
        "id": "JL_13J9Dgwp8"
      }
    },
    {
      "cell_type": "code",
      "source": [
        "def suma(a, b):\n",
        "    return a + b\n",
        "\n",
        "def resta(a, b):\n",
        "    return a - b\n",
        "\n",
        "def multiplicacion(a, b):\n",
        "    return a * b\n",
        "\n",
        "def division(a, b):\n",
        "    if b == 0:\n",
        "        return \"Error: No se puede dividir entre cero.\"\n",
        "    else:\n",
        "        return a / b\n",
        "\n",
        "def calculadora():\n",
        "\n",
        "    num1 = float(input(\"Ingrese el primer número: \"))\n",
        "    num2 = float(input(\"Ingrese el segundo número: \"))\n",
        "\n",
        "    print(\"Operaciones:\")\n",
        "    print(\"1. Suma\")\n",
        "    print(\"2. Resta\")\n",
        "    print(\"3. Multiplicación\")\n",
        "    print(\"4. División\")\n",
        "\n",
        "    opcion = int(input(\"Elija una operación (1/2/3/4): \"))\n",
        "\n",
        "    if opcion == 1:\n",
        "        resultado = suma(num1, num2)\n",
        "        print(\"El resultado de la suma es:\", resultado)\n",
        "    elif opcion == 2:\n",
        "        resultado = resta(num1, num2)\n",
        "        print(\"El resultado de la resta es:\", resultado)\n",
        "    elif opcion == 3:\n",
        "        resultado = multiplicacion(num1, num2)\n",
        "        print(\"El resultado de la multiplicación es:\", resultado)\n",
        "    elif opcion == 4:\n",
        "        resultado = division(num1, num2)\n",
        "        print(\"El resultado de la división es:\", resultado)\n",
        "    else:\n",
        "        print(\"Opción no válida. seleccione una operación válida.\")\n",
        "\n",
        "calculadora()\n"
      ],
      "metadata": {
        "colab": {
          "base_uri": "https://localhost:8080/"
        },
        "id": "KtrQZMzBcsco",
        "outputId": "6da47b88-40e4-4ca7-dd8d-9ac4aa37fff4"
      },
      "execution_count": 14,
      "outputs": [
        {
          "output_type": "stream",
          "name": "stdout",
          "text": [
            "Ingrese el primer número: 10\n",
            "Ingrese el segundo número: 20\n",
            "Operaciones:\n",
            "1. Suma\n",
            "2. Resta\n",
            "3. Multiplicación\n",
            "4. División\n",
            "Elija una operación (1/2/3/4): 3\n",
            "El resultado de la multiplicación es: 200.0\n"
          ]
        }
      ]
    }
  ]
}